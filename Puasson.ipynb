{
  "nbformat": 4,
  "nbformat_minor": 0,
  "metadata": {
    "colab": {
      "provenance": [],
      "collapsed_sections": [],
      "authorship_tag": "ABX9TyNqr/iCXsx1SZKWxAfqP+ZU",
      "include_colab_link": true
    },
    "kernelspec": {
      "name": "python3",
      "display_name": "Python 3"
    },
    "language_info": {
      "name": "python"
    }
  },
  "cells": [
    {
      "cell_type": "markdown",
      "metadata": {
        "id": "view-in-github",
        "colab_type": "text"
      },
      "source": [
        "<a href=\"https://colab.research.google.com/github/javachka11/Dirichle_Puasson/blob/main/Puasson.ipynb\" target=\"_parent\"><img src=\"https://colab.research.google.com/assets/colab-badge.svg\" alt=\"Open In Colab\"/></a>"
      ]
    },
    {
      "cell_type": "code",
      "execution_count": null,
      "metadata": {
        "id": "2l9ahfVfxs__"
      },
      "outputs": [],
      "source": [
        "from scipy.linalg import norm\n",
        "import numpy as np\n",
        "import matplotlib.pyplot as plt\n",
        "from scipy.sparse import lil_matrix, csr_matrix"
      ]
    },
    {
      "cell_type": "code",
      "source": [
        "# правая часть\n",
        "def f(x, y):\n",
        "  return -(8*np.cos(4*x+3*y) + 100*(2*x-3*y)*np.sin(4*x+3*y) - 8)\n",
        "\n",
        "# 0 <= x <= 1\n",
        "def mu_x0(y):\n",
        "  return -12*y*np.sin(3*y)\n",
        "\n",
        "def mu_x1(y):\n",
        "  return 4*((2-3*y)*np.sin(4+3*y) + 1)\n",
        "\n",
        "# 0 <= y <= 2\n",
        "def mu_y0(x):\n",
        "  return 4*(2*x*np.sin(4*x) + np.square(x))\n",
        "\n",
        "def mu_y1(x):\n",
        "  return 4*((2*x-6)*np.sin(4*x+6) + np.square(x))\n",
        "\n",
        "# точное решение\n",
        "def u(x, y):\n",
        "  return 4*((2*x-3*y)*np.sin(4*x+3*y) + np.square(x))"
      ],
      "metadata": {
        "id": "MUIcorfK8_0H"
      },
      "execution_count": null,
      "outputs": []
    },
    {
      "cell_type": "code",
      "source": [
        "def builder(net):\n",
        "  xa, xb = 0, 1\n",
        "  ya, yb = 0, 2\n",
        "  hx, hy = net[0], net[1]\n",
        "  Nx = int((xb - xa)/hx) - 1\n",
        "  Ny = int((yb - ya)/hy) - 1\n",
        "\n",
        "  #A = np.zeros( shape=(Nx*Ny, Nx*Ny) )\n",
        "  A = lil_matrix((Nx*Ny, Nx*Ny))\n",
        "  b = np.zeros(Nx*Ny)\n",
        "\n",
        "  xx = [xa + (i+1)*net[0]  for i in range(Nx)]\n",
        "  yy = [ya + (i+1)*net[1]  for i in range(Ny)]\n",
        "  \n",
        "  for i in range(Ny):\n",
        "    for j in range(Nx):\n",
        "      A[Nx*i+j, Nx*i+j] = 2*(hx**2 + hy**2)\n",
        "      mu1, mu2 = 0, 0\n",
        "\n",
        "      if i == 0:\n",
        "        mu1 = mu_y0(xx[j])\n",
        "        A[Nx*i+j, Nx*(i+1)+j] = -hx**2\n",
        "      elif i == Ny-1:\n",
        "        mu1 = mu_y1(xx[j])\n",
        "        A[Nx*i+j, Nx*(i-1)+j] = -hx**2\n",
        "      else:\n",
        "        A[Nx*i+j, Nx*(i+1)+j] = -hx**2\n",
        "        A[Nx*i+j, Nx*(i-1)+j] = -hx**2\n",
        "\n",
        "      if j == 0:\n",
        "        mu2 = mu_x0(yy[i])\n",
        "        A[Nx*i+j, Nx*i+j+1] = -hy**2\n",
        "      elif j == Nx - 1:\n",
        "        mu2 = mu_x1(yy[i])\n",
        "        A[Nx*i+j, Nx*i+j-1] = -hy**2\n",
        "      else:\n",
        "        A[Nx*i+j, Nx*i+j+1] = -hy**2\n",
        "        A[Nx*i+j, Nx*i+j-1] = -hy**2\n",
        "\n",
        "      b[Nx*i+j] = -f(xx[j], yy[i])*(hx**2)*(hy**2) + mu1*hx**2 + mu2*hy**2\n",
        "  A = csr_matrix(A)\n",
        "  return (A, b)"
      ],
      "metadata": {
        "id": "wOnLYAViDNT5"
      },
      "execution_count": null,
      "outputs": []
    },
    {
      "cell_type": "code",
      "source": [
        "def min_nevyazka(A, b, eps):\n",
        "  n = len(A.toarray())\n",
        "  y = np.ones(n)\n",
        "  Ay = A.dot(y)\n",
        "  yy0 = norm(Ay - b)\n",
        "  yy = yy0\n",
        "  while yy > eps*yy0:\n",
        "    r = Ay - b\n",
        "    Ar = A.dot(r)\n",
        "    tau = Ar.dot(r) / Ar.dot(Ar)\n",
        "    y = y - tau*r\n",
        "    Ay = A.dot(y)\n",
        "    yy = norm(Ay - b)\n",
        "  return y"
      ],
      "metadata": {
        "id": "Agh1bKo5d6b9"
      },
      "execution_count": null,
      "outputs": []
    },
    {
      "cell_type": "code",
      "source": [
        "def main():\n",
        "  hx = 0.01\n",
        "  hy = 0.01\n",
        "  net = (hx, hy)\n",
        "  A, b = builder(net)\n",
        "\n",
        "  xa, xb = 0, 1\n",
        "  ya, yb = 0, 2\n",
        "  Nx = int((xb - xa)/hx) - 1\n",
        "  Ny = int((yb - ya)/hy) - 1\n",
        "  y = min_nevyazka(A, b, 1e-10)\n",
        "\n",
        "  xx = [xa + (i+1)*net[0]  for i in range(Nx)]\n",
        "  yy = [ya + (i+1)*net[1]  for i in range(Ny)]\n",
        "\n",
        "  y0 = np.array([u(i, j) for j in yy for i in xx])\n",
        "\n",
        "  err = max(np.abs(y - y0))\n",
        "\n",
        "  print(err)\n",
        "\n",
        "  y = y.reshape((Ny, Nx))\n",
        "  plt.imshow(y, extent=[0, 1, 0, 2], interpolation = 'bilinear', cmap = 'jet', origin='lower')"
      ],
      "metadata": {
        "id": "XH8_ngboHlD_"
      },
      "execution_count": null,
      "outputs": []
    },
    {
      "cell_type": "code",
      "source": [
        "main()"
      ],
      "metadata": {
        "colab": {
          "base_uri": "https://localhost:8080/",
          "height": 286
        },
        "id": "cDk6M5TWY83R",
        "outputId": "3f896f25-2d19-4f79-cb60-76291066bf89"
      },
      "execution_count": null,
      "outputs": [
        {
          "output_type": "stream",
          "name": "stdout",
          "text": [
            "0.0012428982190559879\n"
          ]
        },
        {
          "output_type": "display_data",
          "data": {
            "text/plain": [
              "<Figure size 432x288 with 1 Axes>"
            ],
            "image/png": "[encoded data removed]"
          },
          "metadata": {
            "needs_background": "light"
          }
        }
      ]
    },
    {
      "cell_type": "code",
      "source": [
        "_xx = np.linspace(0, 1, 101)\n",
        "_yy = np.linspace(0, 2, 201)\n",
        "\n",
        "_uu = [u(x, y) for x in _xx for y in _yy]\n",
        "_uu1 = [(x, y) for x in _xx for y in _yy]\n",
        "\n",
        "_i = _uu.index(min(_uu))\n",
        "_uu1[_i] 0.0012428982190559879  0.12324370094520454"
      ],
      "metadata": {
        "colab": {
          "base_uri": "https://localhost:8080/"
        },
        "id": "N7BH4xxZwbth",
        "outputId": "9e1292f8-18fe-4003-c8bd-6d2271dc7797"
      },
      "execution_count": null,
      "outputs": [
        {
          "output_type": "execute_result",
          "data": {
            "text/plain": [
              "(0.43, 2.0)"
            ]
          },
          "metadata": {},
          "execution_count": 24
        }
      ]
    }
  ]
}